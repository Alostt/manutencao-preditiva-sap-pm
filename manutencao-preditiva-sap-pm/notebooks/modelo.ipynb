{
  "cells": [
    {
      "cell_type": "markdown",
      "metadata": {},
      "source": [
        "# Modelo de Manutenção Preditiva (Demo)\n",
        "Execute as células abaixo para treinar e avaliar rapidamente."
      ]
    },
    {
      "cell_type": "code",
      "execution_count": null,
      "metadata": {},
      "outputs": [],
      "source": [
        "import pandas as pd, joblib\n",
        "from sklearn.model_selection import train_test_split\n",
        "from sklearn.ensemble import RandomForestClassifier\n",
        "from sklearn.metrics import classification_report, roc_auc_score\n",
        "\n",
        "df = pd.read_csv('../data/sensores.csv', parse_dates=['timestamp'])\n",
        "X = df[['vibration_rms','temperature_c','pressure_bar']].values\n",
        "y = df['failure'].values\n",
        "X_train, X_test, y_train, y_test = train_test_split(X, y, test_size=0.2, random_state=42, stratify=y)\n",
        "clf = RandomForestClassifier(n_estimators=200, random_state=42, n_jobs=-1)\n",
        "clf.fit(X_train, y_train)\n",
        "proba = clf.predict_proba(X_test)[:,1]\n",
        "pred = (proba>=0.5).astype(int)\n",
        "print('ROC AUC:', round(roc_auc_score(y_test, proba), 4))\n",
        "print(classification_report(y_test, pred))\n",
        "joblib.dump(clf, '../models/model.joblib')\n",
        "print('Modelo salvo em ../models/model.joblib')\n"
      ]
    }
  ],
  "metadata": {
    "kernelspec": {
      "display_name": "Python 3",
      "language": "python",
      "name": "python3"
    },
    "language_info": {
      "name": "python",
      "version": "3.x"
    }
  },
  "nbformat": 4,
  "nbformat_minor": 5
}